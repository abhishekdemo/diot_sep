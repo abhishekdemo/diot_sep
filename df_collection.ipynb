{
 "cells": [
  {
   "cell_type": "code",
   "execution_count": 2,
   "metadata": {},
   "outputs": [],
   "source": [
    "import findspark\n",
    "findspark.init('/usr/local/spark')\n",
    "import pyspark\n"
   ]
  },
  {
   "cell_type": "code",
   "execution_count": 3,
   "metadata": {},
   "outputs": [],
   "source": [
    "from pyspark.sql import SparkSession\n",
    "spark=SparkSession.builder.appName(\"Spark DF example\").getOrCreate()"
   ]
  },
  {
   "cell_type": "code",
   "execution_count": 5,
   "metadata": {},
   "outputs": [],
   "source": [
    "customerDF=spark.read.load(\"/home/hduser/Downloads/sharedfolder/customers.txt\",format=\"csv\",sep=\"\\t\",inferSchema=\"true\",header=\"true\")"
   ]
  },
  {
   "cell_type": "code",
   "execution_count": 6,
   "metadata": {},
   "outputs": [
    {
     "name": "stdout",
     "output_type": "stream",
     "text": [
      "+-----------+--------------+-------------+--------------+----------------+\n",
      "|customer_id| customer_name|customer_city|customer_state|customer_zipcode|\n",
      "+-----------+--------------+-------------+--------------+----------------+\n",
      "|      11039|   Mary Torres|       Caguas|            PR|             725|\n",
      "|       5623|    Jose Haley|     Columbus|            OH|           43207|\n",
      "|       5829|    Mary Smith|      Houston|            TX|           77015|\n",
      "|       6336|Richard Maddox|       Caguas|            PR|             725|\n",
      "|       1708|Margaret Booth|    Arlington|            TX|           76010|\n",
      "+-----------+--------------+-------------+--------------+----------------+\n",
      "only showing top 5 rows\n",
      "\n"
     ]
    }
   ],
   "source": [
    "customerDF.show(5)\n"
   ]
  },
  {
   "cell_type": "markdown",
   "metadata": {},
   "source": [
    "customerDF.printSchema()"
   ]
  },
  {
   "cell_type": "code",
   "execution_count": 13,
   "metadata": {},
   "outputs": [
    {
     "name": "stdout",
     "output_type": "stream",
     "text": [
      "+-----------+--------------+\n",
      "|customer_id| customer_name|\n",
      "+-----------+--------------+\n",
      "|      11039|   Mary Torres|\n",
      "|       5623|    Jose Haley|\n",
      "|       5829|    Mary Smith|\n",
      "|       6336|Richard Maddox|\n",
      "|       1708|Margaret Booth|\n",
      "+-----------+--------------+\n",
      "only showing top 5 rows\n",
      "\n"
     ]
    }
   ],
   "source": [
    "customerDF.select('customer_id','customer_name').show(5)"
   ]
  },
  {
   "cell_type": "code",
   "execution_count": 14,
   "metadata": {},
   "outputs": [
    {
     "name": "stdout",
     "output_type": "stream",
     "text": [
      "+-----------+-----------------+--------------------+--------------+----------------+\n",
      "|customer_id|    customer_name|       customer_city|customer_state|customer_zipcode|\n",
      "+-----------+-----------------+--------------------+--------------+----------------+\n",
      "|       5829|       Mary Smith|             Houston|            TX|           77015|\n",
      "|       1708|   Margaret Booth|           Arlington|            TX|           76010|\n",
      "|        371|     Adam Marquez|         San Antonio|            TX|           78223|\n",
      "|       1209|        Mary Webb|          San Marcos|            TX|           78666|\n",
      "|       8688|    Michelle Rose|          Eagle Pass|            TX|           78852|\n",
      "|       9756|       Mary White|              Dallas|            TX|           75228|\n",
      "|       6252|      Kevin Smith|          Carrollton|            TX|           75006|\n",
      "|       8582|     Edward Smith|             Houston|            TX|           77088|\n",
      "|       3135|       Helen Ward|             Houston|            TX|           77093|\n",
      "|       5960|   Margaret Smith|          Round Rock|            TX|           78664|\n",
      "|       1076|   Tyler Thompson|          Fort Worth|            TX|           76116|\n",
      "|       2159| Kimberly Sweeney|North Richland Hills|            TX|           76180|\n",
      "|       2420|       Mary Smith|             Weslaco|            TX|           78596|\n",
      "|       1870|    Tiffany Greer|            Amarillo|            TX|           79109|\n",
      "|       6075|       Mary Smith|              Austin|            TX|           78753|\n",
      "|      11363|       Frank Paul|             Garland|            TX|           75040|\n",
      "|       4539| Jacqueline James|             Houston|            TX|           77083|\n",
      "|      10460|    Mary Morrison|       New Braunfels|            TX|           78130|\n",
      "|       8498|Joseph Pennington|             Baytown|            TX|           77520|\n",
      "|        979|       Mary Smith|              Austin|            TX|           78745|\n",
      "+-----------+-----------------+--------------------+--------------+----------------+\n",
      "only showing top 20 rows\n",
      "\n"
     ]
    }
   ],
   "source": [
    "customerDF.filter(customerDF['customer_state']=='TX').show()"
   ]
  },
  {
   "cell_type": "code",
   "execution_count": 17,
   "metadata": {},
   "outputs": [],
   "source": [
    "custTX=customerDF.select('customer_id','customer_name','customer_state').filter(customerDF['customer_state']=='MO')"
   ]
  },
  {
   "cell_type": "code",
   "execution_count": 18,
   "metadata": {},
   "outputs": [
    {
     "data": {
      "text/plain": [
       "13"
      ]
     },
     "execution_count": 18,
     "metadata": {},
     "output_type": "execute_result"
    }
   ],
   "source": [
    "custTX.count()"
   ]
  },
  {
   "cell_type": "code",
   "execution_count": 19,
   "metadata": {},
   "outputs": [],
   "source": [
    "customerDF.createOrReplaceTempView(\"customers\")"
   ]
  },
  {
   "cell_type": "code",
   "execution_count": 23,
   "metadata": {},
   "outputs": [
    {
     "name": "stdout",
     "output_type": "stream",
     "text": [
      "+-----------+----------------+-------------+--------------+----------------+\n",
      "|customer_id|   customer_name|customer_city|customer_state|customer_zipcode|\n",
      "+-----------+----------------+-------------+--------------+----------------+\n",
      "|      11039|     Mary Torres|       Caguas|            PR|             725|\n",
      "|       5623|      Jose Haley|     Columbus|            OH|           43207|\n",
      "|       5829|      Mary Smith|      Houston|            TX|           77015|\n",
      "|       6336|  Richard Maddox|       Caguas|            PR|             725|\n",
      "|       1708|  Margaret Booth|    Arlington|            TX|           76010|\n",
      "|      10227|  Mary Henderson|       Caguas|            PR|             725|\n",
      "|        839|     Lisa Walker|       Caguas|            PR|             725|\n",
      "|       7604|   Jonathan Hill|      Phoenix|            AZ|           85040|\n",
      "|       6485|Carolyn Sheppard|Pompano Beach|            FL|           33063|\n",
      "|       4737|    Mary Mendoza|       Caguas|            PR|             725|\n",
      "|       5973|   Michael Smith|       Caguas|            PR|             725|\n",
      "|       9205|    James Holmes|     Hilliard|            OH|           43026|\n",
      "|        138|     Mary Dawson|       Caguas|            PR|             725|\n",
      "|        371|    Adam Marquez|  San Antonio|            TX|           78223|\n",
      "|       9285|    Gloria Smith|       Caguas|            PR|             725|\n",
      "|       1209|       Mary Webb|   San Marcos|            TX|           78666|\n",
      "|       3021|  Nancy Alvarado|     Flushing|            NY|           11354|\n",
      "|       3354|  Russell Flores|       Caguas|            PR|             725|\n",
      "|      11684|    Denise Smith|    Rego Park|            NY|           11374|\n",
      "|      11144|  Jose Dickerson|         Mesa|            AZ|           85201|\n",
      "+-----------+----------------+-------------+--------------+----------------+\n",
      "only showing top 20 rows\n",
      "\n"
     ]
    }
   ],
   "source": [
    "spark.sql('select*from customers').show()"
   ]
  },
  {
   "cell_type": "code",
   "execution_count": null,
   "metadata": {},
   "outputs": [],
   "source": []
  }
 ],
 "metadata": {
  "kernelspec": {
   "display_name": "Python 3",
   "language": "python",
   "name": "python3"
  },
  "language_info": {
   "codemirror_mode": {
    "name": "ipython",
    "version": 3
   },
   "file_extension": ".py",
   "mimetype": "text/x-python",
   "name": "python",
   "nbconvert_exporter": "python",
   "pygments_lexer": "ipython3",
   "version": "3.5.2"
  }
 },
 "nbformat": 4,
 "nbformat_minor": 2
}
